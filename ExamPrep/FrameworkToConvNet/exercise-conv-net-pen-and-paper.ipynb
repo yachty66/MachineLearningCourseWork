{
 "cells": [
  {
   "cell_type": "markdown",
   "metadata": {},
   "source": [
    "# Exercise: Convolutional Neural Networks - Pen & Paper\n"
   ]
  },
  {
   "cell_type": "markdown",
   "metadata": {},
   "source": [
    "## Table of Contents\n",
    "* [Introduction](#Introduction)\n",
    "* [Requirements](#Requirements) \n",
    "  * [Knowledge](#Knowledge) \n",
    "* [Theory](#Theory)\n",
    "* [Exercises](#Exercises)\n",
    "  * [Some Questions for a Better Understanding of the Whole Topic](#Some-Questions-for-a-Better-Understanding-of-the-Whole-Topic)\n",
    "  * [Convolution as a Sum](#Convolution-as-a-Sum)\n",
    "  * [Convolution as a Matrix Multiplication](#Convolution-as-a-Matrix-Multiplication)\n",
    "* [Additional Notes](#Additional-Notes)\n",
    "* [Summary and Outlook](#Summary-and-Outlook)\n",
    "* [Licenses](#Licenses) "
   ]
  },
  {
   "cell_type": "markdown",
   "metadata": {},
   "source": [
    "## Introduction\n",
    "\n"
   ]
  },
  {
   "cell_type": "markdown",
   "metadata": {},
   "source": [
    "## Requirements\n",
    "\n",
    "### Knowledge\n",
    "You should already be familiar with the backpropagation algorithm, as well as differential calculus. The following resources are recommend if this topic is new to you:\n",
    "\n",
    "- Chapter 6.5 of [Deep Learning](http://www.deeplearningbook.org/contents/ml.html) by Ian Goodfellow gives a brief introduction into the field\n",
    "- MOOC [Calculus](https://www.khanacademy.org/math/calculus-1) from Khan Academy\n",
    "- Goo Blog post: https://towardsdatascience.com/intuitively-understanding-convolutions-for-deep-learning-1f6f42faee1"
   ]
  },
  {
   "cell_type": "markdown",
   "metadata": {},
   "source": [
    "## Theory\n"
   ]
  },
  {
   "cell_type": "markdown",
   "metadata": {},
   "source": [
    "**Definition**\n",
    "\n",
    "Given an image $I$ with shape $i \\times j$, a kernel $K$ with shape $k_1 \\times k_2$ and a stride $s$ with $s \\in \\mathbb Z$ we define the multidimensional discrete convolution $*$ as:\n",
    "\n",
    "  \\begin{align*}\n",
    "    ( I * K ) _ { i j } = \\sum _ { m = 1 } ^ { k _ { 1 } } \\sum _ { n = 1 } ^ { k _ { 2 } } K _ { m , n } \\cdot I _ { s ( i - 1 ) + m , s ( j - 1 ) + n } \\tag{1}\n",
    "  \\end{align*}\n",
    "\n"
   ]
  },
  {
   "cell_type": "markdown",
   "metadata": {},
   "source": [
    "The following picture visualizes the whole process over all steps with an Image of size 3x3, a Kernel of size 2x2 and stride 1:\n",
    "\n",
    "![internet connection needed](https://gitlab.com/deep.TEACHING/educational-materials/raw/master/media/klaus/convolution_pic.png)"
   ]
  },
  {
   "cell_type": "markdown",
   "metadata": {},
   "source": [
    "**Definition**\n",
    "\n",
    "  The gradient with respect to a Kernel $K$ is:\n",
    "\n",
    "  \\begin{align*}\n",
    "    \\frac { \\partial ( I * K ) } { \\partial K _ { m ^ { \\prime } , n ^ { \\prime } } } = \\sum _ { i = 1 } ^ { c _ { 1 } } \\sum _ { j = 1 } ^ { c _ { 2 } } I _ { s ( i - 1 ) + m ^ { \\prime } , s ( j - 1 ) + n ^ { \\prime } } \\tag{2}\n",
    "  \\end{align*}\n",
    "\n",
    "**Note:**\n",
    "\n",
    "Remember that the shape of an output $O$ of a convolutional layer can be calculated by:\n",
    "* $c_1 = (i_1 + 2 * p - k_1)/s + 1$\n",
    "* $c_2 = (i_2 + 2 * p - k_2)/s + 1$\n",
    "* Output depth equals the number of kernels used in the convolution\n"
   ]
  },
  {
   "cell_type": "markdown",
   "metadata": {},
   "source": [
    "## Exercises\n",
    "\n",
    "### Convolution as a Sum\n",
    "\n",
    "For the exercises, assume the following parameter: stride $s=2$, padding $p=0$\n",
    "\n",
    "**Tasks:**\n",
    "\n",
    "**(a)** You feed an image I with the dimensions 200x200x3 in the convolutional layer, which\n",
    "consists of 12323 kernels K each with the size 40x40x3. What dimesions of the output O\n",
    "do you expect?\n",
    "\n",
    "**(b)** Calculate $I * K$ with\n",
    "\n",
    "\\begin{align*}\n",
    "      I = \\left[ \\begin{matrix} 1 & 1 & -2 & 0 & 1 \\\\ 1 & 0 & 0 & 2& 1 \\\\ 0 & 1 & 0 & 5 & -1 \\\\ -2 & 1 & 0 & -1& 1 \\\\ 0 & 1 & 0 & 5 & -1 \\end{matrix} \\right], K = \\left[ \\begin{matrix} 0 & 1 & 1 \\\\ 1 & 0 & 0 \\\\ 0 & 1 & 0\\end{matrix} \\right]\n",
    "\\end{align*}\n",
    "\n",
    "**(c)** Calculate the gradient $\\frac { \\partial ( I * K ) }{ \\partial K }$"
   ]
  },
  {
   "cell_type": "markdown",
   "metadata": {},
   "source": [
    "### Convolution as a Matrix Multiplication\n",
    "\n",
    "If you do a naive implementation of the convolutional operation, you have nested loops. That\n",
    "is a bad idea, because it is always computationally expensive. A good solution to that problem\n",
    "is to vectorize the operation via matrix multiplication.\n",
    "\n",
    "**Tasks:**\n",
    "\n",
    "**(a)** How can you optimize the calculation of the convolutional operation to be more efficient?\n",
    "*(Hint: Look up ’Convolution as matrix multiplication’ with a search engine of your choice.)*\n",
    "\n",
    "**(b)** Calculate $I * K$ again like in (1.b) but with the method described.\n",
    "\n",
    "**(c)** Calculate the gradient $\\frac { \\partial ( L ) } { \\partial K }$ using a matrix multiplication, where:\n",
    "\n",
    "\\begin{align*}\n",
    "\\frac { \\partial ( L ) } { \\partial K } = \\frac { \\partial ( L ) } { \\partial (I * K) } * \\frac { \\partial ( I * K ) } { \\partial (K) }\n",
    "\\end{align*}\n",
    "\n",
    "Assume that the convolutional operation described is the last or only node of your computational graph. Note that the derivative of the matrix multiplication is:\n",
    "\n",
    "\\begin{align*}\n",
    "\\frac { \\partial ( I \\cdot \\vec { k } ) } { \\partial \\vec { k } } = I ^ { T }\n",
    "\\end{align*}\n",
    "\n",
    "**(d)** Calculate the max-pooling operation on image $I$ with kernel-size of $(3x3)$, stride $s = 2$ padding $p = 0$. *(Hint: Pooling is the same as a convolution, but with a different kernel-function.)*\n"
   ]
  },
  {
   "cell_type": "markdown",
   "metadata": {},
   "source": [
    "### Some Questions for a Better Understanding of the Whole Topic\n",
    "\n",
    "Some questions to gain a better understanding of the whole topic.\n",
    "\n",
    "**(a)**  In the equations (1) and (2) we did not include a bias $b$. How would they change if you decide to ad bias $b$ to your convolutional layer?\n",
    "\n",
    "**(b)** We always looked at 2d-examples. What does convolution look like if you write down a 3d-example (as a sum and matrix multiplication)? Create a toy example of your choice, e.g., an image with 5x5x2 and a kernel with 3x3x2 and calculate the convolution.\n",
    "\n",
    "**(c)** What is the difference between cross-correlation $\\star$ and convolution $*$.\n"
   ]
  },
  {
   "cell_type": "markdown",
   "metadata": {},
   "source": [
    "## Additional Notes\n",
    "\n",
    "Some additional information at the end: For a modular implementation of a convolutional neural network, we need also the gradient with **respect to the Image I**. It can be expressed as:\n",
    "\n",
    "**Convolution as a sum**\n",
    "\\begin{align*}\n",
    "\\frac { \\partial ( I * K ) } { \\partial I _ { m ^ { \\prime } , n ^ { \\prime } } } = \\sum _ { i = 1 } \\sum _ { j = 1 } K _ { m ^ { \\prime } - s ( i - 1 ) , n ^ { \\prime } - s ( j - 1 ) }\n",
    "\\end{align*}\n",
    "\n",
    "**Convolution as matrix multiplication**\n",
    "\\begin{align*}\n",
    "\\frac { \\partial ( I \\cdot \\vec { k } ) } { \\partial I } = k ^ { T }\n",
    "\\end{align*}\n"
   ]
  },
  {
   "cell_type": "markdown",
   "metadata": {},
   "source": [
    "## Summary and Outlook\n",
    "\n",
    "In this notebook you performed convolution operations on small example images by hand. It can be very helpful to walk through operations like im2col or vectorization by hand so you gain an intuition about how it works under the hood. Another benefit is that in the next notebook you're going to implement convolution as algorithms - You'll use the small toy examples to verify if your algorithms are working correctly."
   ]
  },
  {
   "cell_type": "markdown",
   "metadata": {},
   "source": [
    "## Licenses\n",
    "\n",
    "### Notebook License (CC-BY-SA 4.0)\n",
    "\n",
    "*The following license applies to the complete notebook, including code cells. It does however not apply to any referenced external media (e.g., images).*\n",
    "\n",
    "Exercise: Convolutional Neural Networks - Pen & Paper <br/>\n",
    "by Benjamin Voigt <br/>\n",
    "is licensed under a [Creative Commons Attribution-ShareAlike 4.0 International License](http://creativecommons.org/licenses/by-sa/4.0/).<br/>\n",
    "Based on a work at https://gitlab.com/deep.TEACHING.\n",
    "\n",
    "\n",
    "### Code License (MIT)\n",
    "\n",
    "*The following license only applies to code cells of the notebook.*\n",
    "\n",
    "Copyright 2018 Benjamin Voigt\n",
    "\n",
    "Permission is hereby granted, free of charge, to any person obtaining a copy of this software and associated documentation files (the \"Software\"), to deal in the Software without restriction, including without limitation the rights to use, copy, modify, merge, publish, distribute, sublicense, and/or sell copies of the Software, and to permit persons to whom the Software is furnished to do so, subject to the following conditions:\n",
    "\n",
    "The above copyright notice and this permission notice shall be included in all copies or substantial portions of the Software.\n",
    "\n",
    "THE SOFTWARE IS PROVIDED \"AS IS\", WITHOUT WARRANTY OF ANY KIND, EXPRESS OR IMPLIED, INCLUDING BUT NOT LIMITED TO THE WARRANTIES OF MERCHANTABILITY, FITNESS FOR A PARTICULAR PURPOSE AND NONINFRINGEMENT. IN NO EVENT SHALL THE AUTHORS OR COPYRIGHT HOLDERS BE LIABLE FOR ANY CLAIM, DAMAGES OR OTHER LIABILITY, WHETHER IN AN ACTION OF CONTRACT, TORT OR OTHERWISE, ARISING FROM, OUT OF OR IN CONNECTION WITH THE SOFTWARE OR THE USE OR OTHER DEALINGS IN THE SOFTWARE."
   ]
  },
  {
   "cell_type": "code",
   "execution_count": null,
   "metadata": {},
   "outputs": [],
   "source": []
  }
 ],
 "metadata": {
  "celltoolbar": "Slideshow",
  "kernelspec": {
   "display_name": "deep_teaching_kernel",
   "language": "python",
   "name": "deep_teaching_kernel"
  },
  "language_info": {
   "codemirror_mode": {
    "name": "ipython",
    "version": 3
   },
   "file_extension": ".py",
   "mimetype": "text/x-python",
   "name": "python",
   "nbconvert_exporter": "python",
   "pygments_lexer": "ipython3",
   "version": "3.6.5"
  }
 },
 "nbformat": 4,
 "nbformat_minor": 2
}
