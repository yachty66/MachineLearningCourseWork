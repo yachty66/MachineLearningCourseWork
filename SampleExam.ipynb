{
 "cells": [
  {
   "cell_type": "markdown",
   "id": "034f0e2d",
   "metadata": {},
   "source": [
    "# Aufgabe 1"
   ]
  },
  {
   "cell_type": "markdown",
   "id": "87c0193f",
   "metadata": {},
   "source": [
    "## a.)\n",
    "(2 Punkte) Um Backpropagation durch einen Max-Pooling-Layer zu machen, müssen Sie die Indizes der maximal Werte aus dem Forward-Path wissen? Wahr oder falsch?"
   ]
  },
  {
   "cell_type": "markdown",
   "id": "2320d22e",
   "metadata": {},
   "source": [
    "Wahr https://datascience.stackexchange.com/questions/18968/how-does-backpropagation-works-through-max-pooling-layer-when-doing-a-batch"
   ]
  },
  {
   "cell_type": "markdown",
   "id": "48bf9d33",
   "metadata": {},
   "source": [
    "## b.)\n",
    "(2Punkte) Sie implementieren einen Klassifikator zum Erkennen von Krebs. Das Model unterscheidet zwischen Tumor- (label 1) und Normal-Gewebe (label 0), es soll von Onkologen_innen am Krankenhaus verwendet werden. Welche der beiden Metriken würden Sie in diesem Kontext verwenden?\n",
    "\n",
    "A. $\\text{Precision}=\\frac{\\text{TruePositives}}{TruePositives+FalsePositives}$\n",
    "\n",
    "B. $\\text{Recall}=\\frac{\\text{TruePositives}}{TruePositives+FalseNegatives}$"
   ]
  },
  {
   "cell_type": "markdown",
   "id": "95f715af",
   "metadata": {},
   "source": [
    "B ist richtig, verstehe nur noch nicht so ganz warum."
   ]
  },
  {
   "cell_type": "markdown",
   "id": "e24abb20",
   "metadata": {},
   "source": [
    "## c.)\n",
    "(2Punkte) Um eine gute Generalisierung zu erreichen, sollte ein neuronales Netzwerk mindestens doppelt so viele lernbare Parameter besitzen, wie Sie Traningsdaten zur Verfügung haben. Wahr oder falsch?"
   ]
  },
  {
   "cell_type": "code",
   "execution_count": null,
   "id": "f2997494",
   "metadata": {},
   "outputs": [],
   "source": [
    "Falsch, im web keine Informationen dazu auffindbar"
   ]
  },
  {
   "cell_type": "markdown",
   "id": "99943792",
   "metadata": {},
   "source": [
    "## d.)\n",
    "(2 Punkte) Der Backpropagation-Algorithmus aktualisiert alle lernbaren Parameter in einem Netzwerk. Wahr oder falsch?"
   ]
  },
  {
   "cell_type": "code",
   "execution_count": null,
   "id": "2caf15fa",
   "metadata": {},
   "outputs": [],
   "source": [
    "Falsch in der Musterklausur, ich kann aber nicht sehen warum das so ist, weil alle "
   ]
  },
  {
   "cell_type": "markdown",
   "id": "b9169c83",
   "metadata": {},
   "source": [
    "## e.)\n",
    "(2 Punkte) Sie haben ein simples neuronales Netzwerk mit einem Convolutional-Layer. Welche der folgenden Eigenschaften treffen auf das Netzwerk zu?\n",
    "\n",
    "A. Es ist Rotationsinvariant\n",
    "\n",
    "B. Es ist Translationsinvariant\n",
    "\n",
    "C. Es ist Skaleninvariant\n",
    "\n",
    "D. Alle Eigenschaften treffen zu"
   ]
  },
  {
   "cell_type": "code",
   "execution_count": null,
   "id": "0415b0b5",
   "metadata": {},
   "outputs": [],
   "source": []
  },
  {
   "cell_type": "markdown",
   "id": "04a6ed4a",
   "metadata": {},
   "source": [
    "## f.)\n",
    "(2 Punkte) Welche Aussagen über Convolutional-Neural-Networks (CNNs) im Kontext der Bildanalyse sind korrekt?\n",
    "\n",
    "A. Filter in den ersten Faltungsschichten entsprechen Kantendetektoren\n",
    "\n",
    "B. CNNs haben bei gleicher Anzahl von Neuronen und Schichten mehr lernbare Parameter als vollständig-vernetzte Netzwerke (fully-connected networks)\n",
    "\n",
    "C. Pooling-Schichten reduzieren die Auflösung eines Bildes (down sampling)\n",
    "\n",
    "D. CNNs eignen sich nicht für Regressionsprobleme"
   ]
  },
  {
   "cell_type": "code",
   "execution_count": null,
   "id": "d7e2d3bc",
   "metadata": {},
   "outputs": [],
   "source": []
  },
  {
   "cell_type": "code",
   "execution_count": null,
   "id": "24e2857b",
   "metadata": {},
   "outputs": [],
   "source": []
  },
  {
   "cell_type": "code",
   "execution_count": null,
   "id": "6cbf848f",
   "metadata": {},
   "outputs": [],
   "source": []
  },
  {
   "cell_type": "code",
   "execution_count": null,
   "id": "f904df4b",
   "metadata": {},
   "outputs": [],
   "source": []
  },
  {
   "cell_type": "code",
   "execution_count": null,
   "id": "f7f5b847",
   "metadata": {},
   "outputs": [],
   "source": []
  },
  {
   "cell_type": "code",
   "execution_count": null,
   "id": "8c9b6b24",
   "metadata": {},
   "outputs": [],
   "source": []
  },
  {
   "cell_type": "code",
   "execution_count": null,
   "id": "0b3a62e1",
   "metadata": {},
   "outputs": [],
   "source": []
  }
 ],
 "metadata": {
  "kernelspec": {
   "display_name": "Python 3 (ipykernel)",
   "language": "python",
   "name": "python3"
  },
  "language_info": {
   "codemirror_mode": {
    "name": "ipython",
    "version": 3
   },
   "file_extension": ".py",
   "mimetype": "text/x-python",
   "name": "python",
   "nbconvert_exporter": "python",
   "pygments_lexer": "ipython3",
   "version": "3.9.7"
  }
 },
 "nbformat": 4,
 "nbformat_minor": 5
}
