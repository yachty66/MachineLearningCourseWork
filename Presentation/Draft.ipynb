{
 "cells": [
  {
   "cell_type": "markdown",
   "id": "de9c12b0",
   "metadata": {},
   "source": [
    "# NOTES\n",
    "\n",
    "How many min total? - 20min according to slides\n",
    "- video rise https://www.youtube.com/watch?v=sXyFa_r1nxA\n",
    "- docs rise https://rise.readthedocs.io/en/stable/usage.html"
   ]
  },
  {
   "cell_type": "markdown",
   "id": "6fde207e",
   "metadata": {},
   "source": [
    "1. Object Detection\n",
    "\n",
    "- Definition\n",
    "    - using my laptop camera and OpenCV for detecting my face (human) an apple which I show in the camera and a orange and introducing the definition of object detection while doing this.\n",
    "    - Locate the presence of objects with a bounding box and types or classes of the located objects in an image. source = https://machinelearningmastery.com/object-recognition-with-deep-learning/\n",
    "    \n",
    "- Challenges (finding for each challenge an example https://link.springer.com/article/10.1007/s11263-019-01247-4 here are examples, took challanges from https://analyticsindiamag.com/top-ten-challenges-in-object-detection-every-data-scientist-should-know/#:~:text=The%20dual%20priorities%20%E2%80%94classifying%20an,misclassifications%20and%20errors%20in%20localisation. I can explain all of this challenges based on my opencv)\n",
    "    - Object localisation\n",
    "        - Where do find the faces of two dogs? Problem of finding the x and y coordinates around object of interest (https://www.einfochips.com/blog/understanding-object-localization-with-deep-learning/)\n",
    "    - Viewpoint variation\n",
    "         - problem which we face if an object gets presented which has not the same angle for example than from the original image. \n",
    "    - Multiple aspect ratios and spatial sizes \n",
    "        - if i have to detect a car but i only have given an 1:1000 modell of the car than the system should be still able to detect the object as an car \n",
    "    - Deformation\n",
    "        - A human is deformed when changing from walking to sitting - the detector needs to capture that\n",
    "    - Occlusion\n",
    "        - if something conceals the targe object. I you want detect a orange and this orange is in the hands of an person\n",
    "    - Ligthing\n",
    "        - object can appear in different colors depending on the ligth which falls on it\n",
    "    - Cluttered or textured background\n",
    "        - if the target object is in an environment which resembles it like a green colored cat in green gras\n",
    "    - Intra class variation\n",
    "        - persian cat, white house cat are all cats. it can be difficult to label them all to the same class because they vary in how they look like\n",
    "    - Real time detection speed \n",
    "        - appears in real time detection of videos\n",
    "    - Limited data\n",
    "        - the less high quality data is available the more difficult it gets to make good predictions\n",
    "    \n",
    "    - open questions\n",
    "        - how deep into technical details?\n",
    "        - take rather less challenges (2) and than explaining them on a semi mathematical level..\n",
    "        - perhaps not? at least not in this order if I later explain how bounding boxes work etc - just that listener gets roughly overview \n",
    "        \n",
    "- How: Bounding box, classification\n",
    "    - what does he mean exactly with that? The process of detecting objects? First classification for the aimed object and than localizing the object with a bounding box? Does he mean this? https://www.analyticsvidhya.com/blog/2020/08/selecting-the-right-bounding-box-using-non-max-suppression-with-implementation/ -> the dog example explains this process\n",
    "    \n",
    "- How to select bounding boxes\n",
    "    - IoU\n",
    "    - Non-Max Suppression\n",
    "        - in non max suppression you have first a lot of bounding boxes in different ratios before deciding then for a final box. good explained here https://www.analyticsvidhya.com/blog/2020/08/selecting-the-right-bounding-box-using-non-max-suppression-with-implementation/\n",
    "        - every bounding box gets an objectiveness score who says how high the probs are that the object inside of the bounding box is of a certain type. In intersection over union the overlapping boxes with the box with highest objectiveness score getting removed. \n",
    "        \n",
    "- Metrics (https://analyticsindiamag.com/5-object-detection-evaluation-metrics-that-data-scientists-should-know/)\n",
    "    - Intersection over Union\n",
    "    - Average precision\n",
    "    - mean average precsision\n",
    "    \n",
    "- Overviews of famous models (does he mean this architectures or certain models whcih were conncretely implemented for some challanges - models which you can find on kaggle?)\n",
    "    - Fast R-CNN\n",
    "    - Faster R-CNN\n",
    "    - Histogram of Oriented Gradients (HOG)\n",
    "    - Region-based Convolutional Neural Networks (R-CNN)\n",
    "    - Region-based Fully Convolutional Network (R-FCN)\n",
    "    - Single Shot Detector (SSD)\n",
    "    - Spatial Pyramid Pooling (SPP-net)\n",
    "    - YOLO (You Only Look Once)\n",
    "    \n",
    "2. RCNN\n",
    "- Introduction\n",
    "- Architecture and how its components work\n",
    "    - Region Proposal -> Selective Search\n",
    "    - Backbone (Feature extraction) -> ConvNet with 2 heads\n",
    "    - Steps: https://web.eecs.umich.edu/~justincj/slides/eecs498-WI2022/598_WI2022_lecture13.pdf (slide 61)\n",
    "- Challenges"
   ]
  },
  {
   "cell_type": "code",
   "execution_count": null,
   "id": "ffaa4962",
   "metadata": {},
   "outputs": [],
   "source": []
  },
  {
   "cell_type": "markdown",
   "id": "9c0aa9c5",
   "metadata": {
    "slideshow": {
     "slide_type": "fragment"
    }
   },
   "source": [
    "- Definition \n",
    "    - Locates the presence of objects with a bounding box and types or classes of the located objects in an image.\n",
    "\n",
    "- Challenges\n",
    "    - Object localisation\n",
    "        - Problem of finding the x and y coordinates around object of interest\n",
    "    - Viewpoint variation\n",
    "        - Problem when objects gets presented from different angle for example\n",
    "    - Multiple aspect ratios and spatial sizes\n",
    "        - If the object has a different ratio or spatial size like shown in the image\n",
    "    - Deformation\n",
    "        - A football player is deformed when changing from running to lieing - the detector needs to capture that\n",
    "    - Occlusion\n",
    "        - If something is in the front of the object\n",
    "    - Lighting\n",
    "        - If the image get affected by light\n",
    "    - Cluttered or textured background\n",
    "        - if the target object is in an environment which resembles it like tools in the image\n",
    "    - Intra class variation\n",
    "        - variations in how object look like in one class. here the chair class.\n",
    "    - Real time detection speed \n",
    "        - how good the algorithms can inteprete objects in the moment where they get observed from an sensor (camera)\n",
    "     - Limited data\n",
    "         - the less high quality data is available the more difficult it gets to make good predictions\n",
    "\n"
   ]
  },
  {
   "cell_type": "markdown",
   "id": "d3654ae2",
   "metadata": {},
   "source": [
    "## Challanges"
   ]
  },
  {
   "cell_type": "code",
   "execution_count": null,
   "id": "d0978298",
   "metadata": {},
   "outputs": [],
   "source": [
    "### Object localisation"
   ]
  },
  {
   "cell_type": "markdown",
   "id": "708b1c65",
   "metadata": {},
   "source": []
  },
  {
   "cell_type": "code",
   "execution_count": null,
   "id": "72f4e4f3",
   "metadata": {},
   "outputs": [],
   "source": []
  }
 ],
 "metadata": {
  "kernelspec": {
   "display_name": "Python 3 (ipykernel)",
   "language": "python",
   "name": "python3"
  },
  "language_info": {
   "codemirror_mode": {
    "name": "ipython",
    "version": 3
   },
   "file_extension": ".py",
   "mimetype": "text/x-python",
   "name": "python",
   "nbconvert_exporter": "python",
   "pygments_lexer": "ipython3",
   "version": "3.9.7"
  }
 },
 "nbformat": 4,
 "nbformat_minor": 5
}
